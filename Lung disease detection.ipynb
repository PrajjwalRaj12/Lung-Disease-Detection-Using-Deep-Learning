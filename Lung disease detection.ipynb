{
 "cells": [
  {
   "cell_type": "code",
   "execution_count": 2,
   "id": "3122dd2e",
   "metadata": {},
   "outputs": [],
   "source": [
    "import numpy as np\n",
    "import pandas as pd\n",
    "import matplotlib.pyplot as plt\n",
    "import seaborn as sns\n",
    "import os\n",
    "from sklearn.utils import shuffle\n",
    "from sklearn.model_selection import train_test_split\n",
    "import cv2\n",
    "from tensorflow.keras.utils import to_categorical\n",
    "from tensorflow.keras.models import Sequential\n",
    "from tensorflow.keras.layers import Conv2D, MaxPooling2D, Flatten, Dense, Dropout\n",
    "from tensorflow.keras.callbacks import EarlyStopping\n",
    "from tensorflow import keras\n",
    "from tensorflow.keras import layers"
   ]
  },
  {
   "cell_type": "code",
   "execution_count": 3,
   "id": "d022caea",
   "metadata": {},
   "outputs": [],
   "source": [
    "dataset = \"COVID-19_Radiography_Dataset\"\n",
    "image_height = 224\n",
    "image_width = 224\n",
    "batch_size = 32"
   ]
  },
  {
   "cell_type": "code",
   "execution_count": 4,
   "id": "bd0e6344",
   "metadata": {},
   "outputs": [
    {
     "name": "stdout",
     "output_type": "stream",
     "text": [
      "Found 33866 images belonging to 4 classes.\n",
      "Found 42330 images belonging to 4 classes.\n"
     ]
    }
   ],
   "source": [
    "train_datagen = keras.preprocessing.image.ImageDataGenerator(\n",
    "    rescale=1.0/255,\n",
    "    validation_split=0.2\n",
    ")\n",
    "\n",
    "train_generator = train_datagen.flow_from_directory(\n",
    "    dataset,\n",
    "    target_size=(image_height, image_width),\n",
    "    batch_size=batch_size,\n",
    "    class_mode='categorical',\n",
    "    subset='training'\n",
    ")\n",
    "\n",
    "test_datagen = keras.preprocessing.image.ImageDataGenerator(\n",
    "    rescale=1.0/255\n",
    ")\n",
    "\n",
    "test_generator = test_datagen.flow_from_directory(\n",
    "    dataset,\n",
    "    target_size=(image_height, image_width),\n",
    "    batch_size=batch_size,\n",
    "    class_mode='categorical',\n",
    "    shuffle=False\n",
    ")"
   ]
  },
  {
   "cell_type": "code",
   "execution_count": 5,
   "id": "79168c31",
   "metadata": {},
   "outputs": [],
   "source": [
    "model = keras.Sequential([\n",
    "    layers.Conv2D(32, (3, 3), activation='relu', input_shape=(image_height, image_width, 3)),\n",
    "    layers.MaxPooling2D((2, 2)),\n",
    "    layers.Conv2D(64, (3, 3), activation='relu'),\n",
    "    layers.MaxPooling2D((2, 2)),\n",
    "    layers.Conv2D(128, (3, 3), activation='relu'),\n",
    "    layers.MaxPooling2D((2, 2)),\n",
    "    layers.Conv2D(256, (3, 3), activation='relu'),\n",
    "    layers.MaxPooling2D((2, 2)),\n",
    "    layers.Flatten(),\n",
    "    layers.Dense(128, activation='relu'),\n",
    "    layers.Dropout(0.5),\n",
    "    layers.Dense(64, activation='relu'),\n",
    "    layers.Dropout(0.5),\n",
    "    layers.Dense(4, activation='softmax')\n",
    "])"
   ]
  },
  {
   "cell_type": "code",
   "execution_count": 6,
   "id": "08197294",
   "metadata": {},
   "outputs": [],
   "source": [
    "model.compile(optimizer='adam',\n",
    "              loss='categorical_crossentropy',\n",
    "              metrics=['accuracy'])"
   ]
  },
  {
   "cell_type": "code",
   "execution_count": 7,
   "id": "83002275",
   "metadata": {},
   "outputs": [
    {
     "name": "stdout",
     "output_type": "stream",
     "text": [
      "Epoch 1/20\n",
      "1058/1058 [==============================] - 2159s 2s/step - loss: 0.9916 - accuracy: 0.5803 - val_loss: 0.7261 - val_accuracy: 0.7005\n",
      "Epoch 2/20\n",
      "1058/1058 [==============================] - 1893s 2s/step - loss: 0.7676 - accuracy: 0.6900 - val_loss: 0.6021 - val_accuracy: 0.7513\n",
      "Epoch 3/20\n",
      "1058/1058 [==============================] - 1728s 2s/step - loss: 0.6778 - accuracy: 0.7345 - val_loss: 0.5286 - val_accuracy: 0.7881\n",
      "Epoch 4/20\n",
      "1058/1058 [==============================] - 1701s 2s/step - loss: 0.6271 - accuracy: 0.7599 - val_loss: 0.5275 - val_accuracy: 0.7957\n",
      "Epoch 5/20\n",
      "1058/1058 [==============================] - 1662s 2s/step - loss: 0.5798 - accuracy: 0.7772 - val_loss: 0.4693 - val_accuracy: 0.8178\n",
      "Epoch 6/20\n",
      "1058/1058 [==============================] - 1641s 2s/step - loss: 0.5462 - accuracy: 0.7921 - val_loss: 0.4340 - val_accuracy: 0.8289\n",
      "Epoch 7/20\n",
      "1058/1058 [==============================] - 1852s 2s/step - loss: 0.5216 - accuracy: 0.8021 - val_loss: 0.3897 - val_accuracy: 0.8490\n",
      "Epoch 8/20\n",
      "1058/1058 [==============================] - 1917s 2s/step - loss: 0.4853 - accuracy: 0.8160 - val_loss: 0.3677 - val_accuracy: 0.8630\n",
      "Epoch 9/20\n",
      "1058/1058 [==============================] - 1720s 2s/step - loss: 0.4703 - accuracy: 0.8226 - val_loss: 0.3458 - val_accuracy: 0.8693\n",
      "Epoch 10/20\n",
      "1058/1058 [==============================] - 1645s 2s/step - loss: 0.4395 - accuracy: 0.8315 - val_loss: 0.3338 - val_accuracy: 0.8788\n",
      "Epoch 11/20\n",
      "1058/1058 [==============================] - 1927s 2s/step - loss: 0.4157 - accuracy: 0.8409 - val_loss: 0.3165 - val_accuracy: 0.8807\n",
      "Epoch 12/20\n",
      "1058/1058 [==============================] - 1755s 2s/step - loss: 0.3925 - accuracy: 0.8506 - val_loss: 0.3219 - val_accuracy: 0.8853\n",
      "Epoch 13/20\n",
      "1058/1058 [==============================] - 1819s 2s/step - loss: 0.3793 - accuracy: 0.8549 - val_loss: 0.2870 - val_accuracy: 0.8939\n",
      "Epoch 14/20\n",
      "1058/1058 [==============================] - 1761s 2s/step - loss: 0.3582 - accuracy: 0.8637 - val_loss: 0.2517 - val_accuracy: 0.9082\n",
      "Epoch 15/20\n",
      "1058/1058 [==============================] - 1986s 2s/step - loss: 0.3394 - accuracy: 0.8710 - val_loss: 0.2462 - val_accuracy: 0.9153\n",
      "Epoch 16/20\n",
      "1058/1058 [==============================] - 1639s 2s/step - loss: 0.3250 - accuracy: 0.8762 - val_loss: 0.2285 - val_accuracy: 0.9210\n",
      "Epoch 17/20\n",
      "1058/1058 [==============================] - 1605s 2s/step - loss: 0.3069 - accuracy: 0.8835 - val_loss: 0.2367 - val_accuracy: 0.9193\n",
      "Epoch 18/20\n",
      "1058/1058 [==============================] - 1581s 1s/step - loss: 0.2879 - accuracy: 0.8893 - val_loss: 0.2077 - val_accuracy: 0.9317\n",
      "Epoch 19/20\n",
      "1058/1058 [==============================] - 1640s 2s/step - loss: 0.2807 - accuracy: 0.8934 - val_loss: 0.2101 - val_accuracy: 0.9294\n",
      "Epoch 20/20\n",
      "1058/1058 [==============================] - 1596s 2s/step - loss: 0.2673 - accuracy: 0.8960 - val_loss: 0.1973 - val_accuracy: 0.9385\n"
     ]
    }
   ],
   "source": [
    "epochs = 20\n",
    "history = model.fit(\n",
    "    train_generator,\n",
    "    steps_per_epoch=train_generator.samples // batch_size,\n",
    "    epochs=epochs,\n",
    "    validation_data=test_generator,\n",
    "    validation_steps=test_generator.samples // batch_size\n",
    ")"
   ]
  },
  {
   "cell_type": "code",
   "execution_count": 8,
   "id": "dd9b22eb",
   "metadata": {},
   "outputs": [
    {
     "name": "stdout",
     "output_type": "stream",
     "text": [
      "1322/1322 [==============================] - 506s 383ms/step - loss: 0.1973 - accuracy: 0.9385\n",
      "Test accuracy: 0.9384928345680237\n"
     ]
    }
   ],
   "source": [
    "test_loss, test_acc = model.evaluate(test_generator, steps=test_generator.samples // batch_size)\n",
    "print('Test accuracy:', test_acc)"
   ]
  },
  {
   "cell_type": "code",
   "execution_count": 9,
   "id": "bd7b027b",
   "metadata": {},
   "outputs": [
    {
     "name": "stdout",
     "output_type": "stream",
     "text": [
      "1322/1322 [==============================] - 592s 448ms/step - loss: 0.1973 - accuracy: 0.9385\n",
      "Test Accuracy: 93.84928345680237\n"
     ]
    }
   ],
   "source": [
    "test_loss, test_acc = model.evaluate(test_generator, steps=test_generator.samples // batch_size)\n",
    "test_accuracy_percentage = test_acc * 100\n",
    "print(\"Test Accuracy:\", test_accuracy_percentage)"
   ]
  },
  {
   "cell_type": "code",
   "execution_count": null,
   "id": "0b0ae38d",
   "metadata": {},
   "outputs": [],
   "source": []
  }
 ],
 "metadata": {
  "kernelspec": {
   "display_name": "Python 3 (ipykernel)",
   "language": "python",
   "name": "python3"
  },
  "language_info": {
   "codemirror_mode": {
    "name": "ipython",
    "version": 3
   },
   "file_extension": ".py",
   "mimetype": "text/x-python",
   "name": "python",
   "nbconvert_exporter": "python",
   "pygments_lexer": "ipython3",
   "version": "3.10.9"
  }
 },
 "nbformat": 4,
 "nbformat_minor": 5
}
